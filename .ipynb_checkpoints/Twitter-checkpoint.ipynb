{
 "cells": [
  {
   "cell_type": "markdown",
   "metadata": {},
   "source": [
    "# 1. Captura de tweets"
   ]
  },
  {
   "cell_type": "markdown",
   "metadata": {},
   "source": [
    "## 1.1 Constantes"
   ]
  },
  {
   "cell_type": "code",
   "execution_count": null,
   "metadata": {
    "collapsed": true
   },
   "outputs": [],
   "source": [
    "import pandas as pd\n",
    "\n",
    "# Rutas y nombre de archivos de los tweets capturados\n",
    "tweets_local_path = 'data/twitter_raw/'\n",
    "tweets_hdfs_path = '/user/testing86/twitter/'\n",
    "tweets_filename = 'tweets.json'\n",
    "\n",
    "tweets_local_path_filename = tweets_local_path + tweets_filename\n",
    "tweets_hdfs_path_filename = tweets_hdfs_path + tweets_filename\n",
    "\n",
    "# Ruta Tweets capturados\n",
    "twitter_results_path = 'data/twitter_results/'\n",
    "\n",
    "# Tecnologías más populares del último año\n",
    "stack_overflow_results_path = \"data/stack_overflow_results/\"\n",
    "popular_tags_2017_filename = 'list_popular_tags_2017.csv'\n",
    "popular_tags_2017 = pd.read_csv(stack_overflow_results_path + popular_tags_2017_filename).tag.tolist()\n",
    "\n",
    "\n",
    "# Palabras no válidas\n",
    "not_valid_country = 'null'\n",
    "not_valid_language = ['null', 'und']\n",
    "not_valid_coordenates = 999.9\n",
    "\n",
    "# Otras constantes\n",
    "numberOfResults = 10\n",
    "others_local_path = 'data/others/'"
   ]
  },
  {
   "cell_type": "markdown",
   "metadata": {},
   "source": [
    "## 1.2 Autenticación del usuario de Twitter para realizar la captura"
   ]
  },
  {
   "cell_type": "code",
   "execution_count": null,
   "metadata": {
    "scrolled": false
   },
   "outputs": [],
   "source": [
    "import tweepy\n",
    "\n",
    "consumer_key = 'sM12C9ouJEADz1w2F7hfKerAU'\n",
    "consumer_secret = 'pTAdQF9oTtoy63saHTnUmbrv9v2FYi2LYYyH0UqXZOPA9Vpxqk'\n",
    "\n",
    "access_token = '83638117-1lYKb3OTUiYIPibnm9IZ1vadthCRquCelOCCqZoax'\n",
    "access_token_secret = 'WVtdNK6lKyDJKhFqQCroHYi4zHSZANB0bRdkKsWK9NuCk'\n",
    "\n",
    "auth = tweepy.OAuthHandler(consumer_key, consumer_secret)\n",
    "auth.secure = True\n",
    "auth.set_access_token(access_token, access_token_secret)\n",
    "\n",
    "api = tweepy.API(auth)\n",
    "print (\"Autenticación correcta\")"
   ]
  },
  {
   "cell_type": "markdown",
   "metadata": {},
   "source": [
    "## 1.3 Captura y filtrado de tweets"
   ]
  },
  {
   "cell_type": "markdown",
   "metadata": {},
   "source": [
    "### 1.3.1 Funcíon de captura y filtrado"
   ]
  },
  {
   "cell_type": "code",
   "execution_count": null,
   "metadata": {
    "collapsed": true
   },
   "outputs": [],
   "source": [
    "from tweepy import Stream\n",
    "from tweepy.streaming import StreamListener\n",
    "from tweepy.api import API\n",
    "import json\n",
    "\n",
    "class TwitterListener(StreamListener):    \n",
    "    def __init__(self, path, keywords, capture_type = 'byTime', capture_time_minutes = 5, capture_number = 100):\n",
    "        self.api = api or API()\n",
    "        self.path = path\n",
    "        self.keywords = keywords\n",
    "        self.capture_type = capture_type\n",
    "        self.start_time = time.time()\n",
    "        self.stop_time = 0\n",
    "        self.counter = 0\n",
    "        self.capture_time_minutes = capture_time_minutes * 60\n",
    "        self.tweets_to_capture = capture_number\n",
    "        self.capture_finished = False\n",
    "        self.error = False\n",
    "        \n",
    "        print('Captura de tweets iniciada.')\n",
    "        print('Palabras clave = ', end = '')\n",
    "        for i in range(len(self.keywords)):\n",
    "            if i == (len(self.keywords)-1):\n",
    "                print(self.keywords[i], end ='\\n')\n",
    "            else:\n",
    "                print(self.keywords[i], end =', ')\n",
    "            \n",
    "        if self.capture_type == 'byTime':\n",
    "            print('Tiempo de captura: {} min\\n'.format(self.capture_time_minutes//60))\n",
    "            print('\\rTiempo restante: {} min {:02d} s.     Tweets capturados: {}'\n",
    "                  .format(self.capture_time_minutes//60, self.capture_time_minutes%60, self.counter), end = '', flush = True)\n",
    "        elif self.capture_type == 'byTweets':\n",
    "            print('Tweets a capturar: {}\\n'.format(self.tweets_to_capture))\n",
    "            print('\\rTweets capturados: {} de {}.     Tiempo transcurrido: {} min {:02d} s'\n",
    "                  .format(self.counter, self.tweets_to_capture, 0, 0), end = '', flush = True)\n",
    "        else:\n",
    "            print('Error: {} no es un tipo de captura válido.'.format(self.capture_type))\n",
    "            self.capture_finished = True\n",
    "            self.error = True\n",
    "              \n",
    "    def on_status(self, status):\n",
    "        \n",
    "        toSave={}\n",
    "        if self.capture_type == 'byTime':\n",
    "            if (time.time() - self.start_time) < self.capture_time_minutes:\n",
    "                remaining_time_min = (self.capture_time_minutes//60) - ((int(time.time() -self.start_time))//60) - 1\n",
    "                remaining_time_s = 59 - (int(time.time() -self.start_time))%60\n",
    "                print('\\rTiempo restante: {} min {:02d} s.     Tweets capturados: {}'\n",
    "                      .format(remaining_time_min, remaining_time_s, self.counter), end = '', flush = True)\n",
    "            else:\n",
    "                self.stop_time = time.time()\n",
    "                self.capture_finished = True\n",
    "        elif self.capture_type == 'byTweets':\n",
    "            if self.counter < self.tweets_to_capture:\n",
    "                elapsed_time_min = int(time.time() -self.start_time)//60\n",
    "                elapsed_time_s = int(time.time() -self.start_time)%60\n",
    "                print('\\rTweets capturados: {} de {}.     Tiempo transcurrido: {} min {:02d} s'\n",
    "                      .format(self.counter, self.tweets_to_capture, elapsed_time_min, elapsed_time_s), end = '', flush = True)\n",
    "            else:\n",
    "                self.stop_time = time.time()\n",
    "                self.capture_finished = True\n",
    "                \n",
    "        if not self.capture_finished:\n",
    "            if status.text:\n",
    "                texto = [word for word in status.text.lower().split() if word in self.keywords]\n",
    "                if texto:\n",
    "                    self.counter += 1\n",
    "\n",
    "                    country = 'null'\n",
    "                    coordinates = {\n",
    "                            'Longitude':999.9,\n",
    "                            'Latitude':999.9}\n",
    "                    lang = 'null'\n",
    "                    created_at = 'null'\n",
    "\n",
    "                    if status.place:\n",
    "                        country = status.place.country\n",
    "                    if status.lang:\n",
    "                        lang = status.lang\n",
    "                    if status.created_at:\n",
    "                        created_at = status.created_at\n",
    "                    #if status.geo:\n",
    "                    #if status.user.geo_enabled and status.geo:\n",
    "                    #    coordinates = status.geo\n",
    "                    if status.coordinates is not None:\n",
    "                        coordinates = {\n",
    "                            'Longitude':status.coordinates['coordinates'][0],\n",
    "                            'Latitude':status.coordinates['coordinates'][1]}\n",
    "\n",
    "                    toSave = {\n",
    "                        'Tag':texto[0],\n",
    "                        'Language':lang,\n",
    "                        'Country':country,\n",
    "                        'Coordinates':coordinates,\n",
    "                        'Created_at':created_at}\n",
    "                    try:\n",
    "                        #with open('/home/testing86/Proyecto/data/tweets_pp.json', 'a') as f:\n",
    "                        with open(self.path, 'a') as f:\n",
    "                            stringToWrite = json.dumps(toSave,default=str)+'\\n'\n",
    "                            f.write(stringToWrite)\n",
    "\n",
    "                            #json.dump(toSave,f)\n",
    "                            return True\n",
    "                    except BaseException as e:\n",
    "                        print(\"Error on_data: %s\" % str(e))\n",
    "                    return True\n",
    "        else:\n",
    "            if not self.error:\n",
    "                print('\\rCaptura de tweets finalizada.')\n",
    "                if self.capture_type == 'byTime':\n",
    "                    print('Se han capturado {} tweets en {} min'.format(self.counter,(self.capture_time_minutes//60)))\n",
    "                elif self.capture_type == 'byTweets':\n",
    "                    print('Se han capturado {} tweets en {} min y {} s.'\n",
    "                          .format(self.counter,(int(time.time() -self.start_time))//60, (int(time.time() -self.start_time))%60))\n",
    "\n",
    "                if (self.counter > 0):\n",
    "                    print('Un tweet cada {0:.3f} s'.format((self.stop_time - self.start_time)/self.counter))\n",
    "            return False\n",
    " \n",
    "    def on_error(self, status):\n",
    "        print(status)\n",
    "        return True"
   ]
  },
  {
   "cell_type": "markdown",
   "metadata": {
    "collapsed": true
   },
   "source": [
    "### 1.3.2 Realizar la captura de tweets en base a las tecnologías más populares del último año"
   ]
  },
  {
   "cell_type": "markdown",
   "metadata": {},
   "source": [
    "#### 1.3.2.1 Configurar la captura de tweets"
   ]
  },
  {
   "cell_type": "code",
   "execution_count": null,
   "metadata": {
    "collapsed": true
   },
   "outputs": [],
   "source": [
    "# Habilitar o deshabilitar la captura de tweets\n",
    "capture_tweets = False\n",
    "# Tipo de captura ('byTweets' o 'byTime')\n",
    "capture_type = 'byTweets'\n",
    "# Parámetros de la captura\n",
    "keywords = popular_tags_2017\n",
    "tweets_to_capture = 100\n",
    "minutes_to_capture = 1    "
   ]
  },
  {
   "cell_type": "markdown",
   "metadata": {},
   "source": [
    "#### 1.3.2.2 Iniciar la captura de tweets"
   ]
  },
  {
   "cell_type": "code",
   "execution_count": null,
   "metadata": {
    "scrolled": true
   },
   "outputs": [],
   "source": [
    "if capture_tweets:\n",
    "    # Límite por número de tweets\n",
    "    if capture_type == 'byTweets':\n",
    "        twitterStream= Stream(auth, TwitterListener(tweets_local_path_filename, keywords, \n",
    "                                                    capture_type = capture_type, \n",
    "                                                    capture_number = tweets_to_capture),async=True)\n",
    "        twitterStream.filter(track=keywords)\n",
    "    # Límite por tiempo\n",
    "    elif capture_type == 'byTime':\n",
    "        twitterStream= Stream(auth, TwitterListener(tweets_local_path_filename, keywords, \n",
    "                                                    capture_type = capture_type, \n",
    "                                                    capture_time_minutes = minutes_to_capture),async=True)\n",
    "        twitterStream.filter(track=keywords)"
   ]
  },
  {
   "cell_type": "markdown",
   "metadata": {},
   "source": [
    "## 1.4 Ingesta a HDFS"
   ]
  },
  {
   "cell_type": "code",
   "execution_count": null,
   "metadata": {
    "collapsed": true
   },
   "outputs": [],
   "source": [
    "if capture_tweets:\n",
    "    ! hdfs dfs -put -f {tweets_local_path_filename} {tweets_hdfs_path_filename}"
   ]
  },
  {
   "cell_type": "markdown",
   "metadata": {},
   "source": [
    "# 2. Lectura de los tweets capturados"
   ]
  },
  {
   "cell_type": "markdown",
   "metadata": {},
   "source": [
    "## 2.1 Lectura del archivo alojado en HDFS"
   ]
  },
  {
   "cell_type": "code",
   "execution_count": null,
   "metadata": {
    "collapsed": true
   },
   "outputs": [],
   "source": [
    "tweets_df = spark.read.json(tweets_hdfs_path_filename).cache()"
   ]
  },
  {
   "cell_type": "markdown",
   "metadata": {},
   "source": [
    "## 2.2 Número de tweets capturados"
   ]
  },
  {
   "cell_type": "code",
   "execution_count": null,
   "metadata": {
    "collapsed": true
   },
   "outputs": [],
   "source": [
    "# Número de tweets\n",
    "tweets_count = tweets_df.count()"
   ]
  },
  {
   "cell_type": "markdown",
   "metadata": {},
   "source": [
    "### 2.2.1 Guardar a un fichero"
   ]
  },
  {
   "cell_type": "code",
   "execution_count": null,
   "metadata": {
    "collapsed": true
   },
   "outputs": [],
   "source": [
    "tweets_count_filename = 'tweets_count.csv'\n",
    "with open(twitter_results_path + tweets_count_filename, 'w') as f:\n",
    "    f.write(str(tweets_count))"
   ]
  },
  {
   "cell_type": "markdown",
   "metadata": {},
   "source": [
    "# 3. Procesamientos de datos"
   ]
  },
  {
   "cell_type": "markdown",
   "metadata": {},
   "source": [
    "## 3.1 Popularidad actual de las tecnologías más populares del año anterior"
   ]
  },
  {
   "cell_type": "code",
   "execution_count": null,
   "metadata": {
    "collapsed": true
   },
   "outputs": [],
   "source": [
    "# Agrupar, contar y hacer la media de los tweets\n",
    "from pyspark.sql.functions import desc, col, count, format_number\n",
    "\n",
    "ranking_popular_tags_df = (tweets_df.groupBy('Tag')\n",
    "               .agg(count('Tag').alias('Menciones')).sort(desc('Menciones'))\n",
    "               .withColumn('Promedio', format_number(col('Menciones')/tweets_count * 100,2).cast('Float')).cache())"
   ]
  },
  {
   "cell_type": "markdown",
   "metadata": {},
   "source": [
    "### 3.1.1 Guardar los resultados a un fichero"
   ]
  },
  {
   "cell_type": "code",
   "execution_count": null,
   "metadata": {
    "collapsed": true
   },
   "outputs": [],
   "source": [
    "ranking_popular_tags_filename = 'ranking_popular_tags.csv'\n",
    "ranking_popular_tags_df.toPandas().to_csv(twitter_results_path \n",
    "                                           + ranking_popular_tags_filename, header=True, index=False)"
   ]
  },
  {
   "cell_type": "markdown",
   "metadata": {},
   "source": [
    "### 3.1.2 Variables auxiliares empleadas en la obtención de resultados"
   ]
  },
  {
   "cell_type": "code",
   "execution_count": null,
   "metadata": {
    "collapsed": true
   },
   "outputs": [],
   "source": [
    "# Lista de las tecnologías más populares actualmente\n",
    "current_ranking_tag_list = ranking_popular_tags_df.select('Tag').rdd.flatMap(lambda x: x).collect()\n",
    "\n",
    "# Lista del número de menciones de cada tecnología\n",
    "current_ranking_tag_count_list = ranking_popular_tags_df.select('Menciones').rdd.flatMap(lambda x: x).collect()"
   ]
  },
  {
   "cell_type": "markdown",
   "metadata": {},
   "source": [
    "## 3.2 Tecnologías por países"
   ]
  },
  {
   "cell_type": "markdown",
   "metadata": {},
   "source": [
    "### 3.2.1 Tweets en los que se especifica el país"
   ]
  },
  {
   "cell_type": "code",
   "execution_count": null,
   "metadata": {
    "collapsed": true
   },
   "outputs": [],
   "source": [
    "countries_df = (tweets_df.filter(tweets_df.Country.isin(not_valid_country) == False)).cache()\n",
    "number_tweets_with_country = countries_df.count()"
   ]
  },
  {
   "cell_type": "markdown",
   "metadata": {},
   "source": [
    "#### 3.2.1.1 Guardar los resultados a un fichero"
   ]
  },
  {
   "cell_type": "code",
   "execution_count": null,
   "metadata": {
    "collapsed": true
   },
   "outputs": [],
   "source": [
    "number_tweets_with_country_filename = 'number_tweets_with_country.csv'\n",
    "with open(twitter_results_path + number_tweets_with_country_filename, 'w') as f:\n",
    "    f.write(str(number_tweets_with_country))"
   ]
  },
  {
   "cell_type": "markdown",
   "metadata": {},
   "source": [
    "### 3.2.2 Ranking de los países en los que las tecnologías son más mencionadas"
   ]
  },
  {
   "cell_type": "code",
   "execution_count": null,
   "metadata": {
    "collapsed": true
   },
   "outputs": [],
   "source": [
    "ranking_countries_df = (countries_df\n",
    "                        .groupBy('Country').agg(count('Country').alias('Menciones'))\n",
    "                        .sort(desc('Menciones'))\n",
    "                        .withColumn('Promedio', \n",
    "                                    format_number(col('Menciones')/number_tweets_with_country * 100,2)\n",
    "                                    .cast('Float')).cache())"
   ]
  },
  {
   "cell_type": "markdown",
   "metadata": {},
   "source": [
    "#### 3.2.2.1 Guardar los resultados a un fichero"
   ]
  },
  {
   "cell_type": "code",
   "execution_count": null,
   "metadata": {
    "collapsed": true
   },
   "outputs": [],
   "source": [
    "ranking_countries_filename = 'ranking_countries.csv'\n",
    "ranking_countries_df.limit(10).toPandas().to_csv(twitter_results_path \n",
    "                                           + ranking_countries_filename, header=True, index=False)"
   ]
  },
  {
   "cell_type": "markdown",
   "metadata": {},
   "source": [
    "## 3.3 Tecnologías por idiomas"
   ]
  },
  {
   "cell_type": "markdown",
   "metadata": {},
   "source": [
    "### 3.3.1 Tweets en los que se especifica el idioma"
   ]
  },
  {
   "cell_type": "code",
   "execution_count": null,
   "metadata": {},
   "outputs": [],
   "source": [
    "languages_df = (tweets_df.filter(tweets_df.Language.isin(not_valid_language) == False)).cache()\n",
    "number_tweets_with_language = languages_df.count()"
   ]
  },
  {
   "cell_type": "markdown",
   "metadata": {},
   "source": [
    "### 3.3.2 Ranking de los idiomas más empleados"
   ]
  },
  {
   "cell_type": "code",
   "execution_count": null,
   "metadata": {
    "collapsed": true
   },
   "outputs": [],
   "source": [
    "ranking_languages_df = (languages_df\n",
    "                       .groupBy('Language').agg(count('Language').alias('Menciones'))\n",
    "                       .sort(desc('Menciones'))\n",
    "                       .withColumn('Promedio', format_number(col('Menciones')/number_tweets_with_language * 100,2)\n",
    "                                   .cast('Float')).cache())"
   ]
  },
  {
   "cell_type": "markdown",
   "metadata": {},
   "source": [
    "#### 3.3.2.1 Carga del diccionario de idiomas"
   ]
  },
  {
   "cell_type": "code",
   "execution_count": null,
   "metadata": {
    "collapsed": true
   },
   "outputs": [],
   "source": [
    "import json\n",
    "abbreviate_languages_filename = 'idiomas.json'\n",
    "with open(others_local_path + abbreviate_languages_filename) as f:\n",
    "    abbreviate_languages = json.load(f)"
   ]
  },
  {
   "cell_type": "markdown",
   "metadata": {},
   "source": [
    "#### 3.3.2.2 Conversión de la abreviatura del idioma al nombre del idioma"
   ]
  },
  {
   "cell_type": "code",
   "execution_count": null,
   "metadata": {
    "collapsed": true
   },
   "outputs": [],
   "source": [
    "temporal_pd_pf = ranking_languages_df.limit(10).toPandas()\n",
    "for i in range(len(temporal_pd_pf)):\n",
    "    temporal_pd_pf.loc[i,'Language'] = abbreviate_languages[temporal_pd_pf.Language[i]]"
   ]
  },
  {
   "cell_type": "markdown",
   "metadata": {},
   "source": [
    "#### 3.3.2.3 Guardar los resultados a un fichero"
   ]
  },
  {
   "cell_type": "code",
   "execution_count": null,
   "metadata": {
    "collapsed": true
   },
   "outputs": [],
   "source": [
    "ranking_languages_filename = 'ranking_languages.csv'\n",
    "temporal_pd_pf.to_csv(twitter_results_path + ranking_languages_filename, header=True, index=False)"
   ]
  },
  {
   "cell_type": "markdown",
   "metadata": {},
   "source": [
    "#### 3.3.2.4 Diccionario de idiomas y número de tweets"
   ]
  },
  {
   "cell_type": "code",
   "execution_count": null,
   "metadata": {
    "collapsed": true
   },
   "outputs": [],
   "source": [
    "# Lista de idiomas\n",
    "languages_list = ranking_languages_df.select('Language').rdd.flatMap(lambda x: x).collect()\n",
    "\n",
    "# Lista del número de tags por idioma\n",
    "languages_tags_counts_list = ranking_languages_df.select('Menciones').rdd.flatMap(lambda x: x).collect()\n",
    "\n",
    "# Diccionario que relaciona el idioma con su número de tags\n",
    "dict_language_tagsCounts = {}\n",
    "for i in range(len(languages_list)):\n",
    "    dict_language_tagsCounts[languages_list[i]] = languages_tags_counts_list[i]"
   ]
  },
  {
   "cell_type": "markdown",
   "metadata": {},
   "source": [
    "### 3.3.3 Idiomas más empleados por tecnología"
   ]
  },
  {
   "cell_type": "code",
   "execution_count": null,
   "metadata": {
    "collapsed": true
   },
   "outputs": [],
   "source": [
    "from pyspark.sql.functions import udf,lit\n",
    "from pyspark.sql.types import *\n",
    "\n",
    "def average_tag_per_language(language, tag_count):\n",
    "    counts_language = dict_language_tagsCounts[language]\n",
    "    return (tag_count/counts_language)*100\n",
    "\n",
    "udf_average_tag_per_language = udf(average_tag_per_language, DoubleType())\n",
    "\n",
    "ranking_language_by_tag = []\n",
    "for i in range(len(current_ranking_tag_list)):\n",
    "    ranking_language_by_tag.append(languages_df.filter(languages_df.Tag == current_ranking_tag_list[i])\n",
    "                                   .groupBy('Language').agg(count('Language').alias('Menciones')).sort(desc('Menciones'))\n",
    "                                   .withColumn('PromedioTag',\n",
    "                                               format_number(col('Menciones')/current_ranking_tag_count_list[i] * 100,2)\n",
    "                                               .cast('Float'))\n",
    "                                   .withColumn('PromedioIdioma',\n",
    "                                               format_number(udf_average_tag_per_language\n",
    "                                                             ('Language','Menciones'),2).cast('Float'))\n",
    "                                   .withColumn('Tecnologia',lit(current_ranking_tag_list[i])).cache())"
   ]
  },
  {
   "cell_type": "markdown",
   "metadata": {},
   "source": [
    "#### 3.3.3.1 Guardar los resultados a ficheros convirtiendo la abreviatura del idiomas en su nombre"
   ]
  },
  {
   "cell_type": "code",
   "execution_count": null,
   "metadata": {
    "collapsed": true
   },
   "outputs": [],
   "source": [
    "rank = 1\n",
    "\n",
    "for i in range(len(current_ranking_tag_list)):\n",
    "    popular_languages_by_tag_rank_filename = 'popular_languages_by_tag_rank_' + str(rank) + '.csv'\n",
    "    temporal_pd_pf = ranking_language_by_tag[i].limit(10).toPandas()\n",
    "    # Traducción de la abreviatura\n",
    "    for i in range(len(temporal_pd_pf)):\n",
    "        temporal_pd_pf.loc[i,'Language'] = abbreviate_languages[temporal_pd_pf.Language[i]]\n",
    "    # Guardar los resultados\n",
    "    temporal_pd_pf.to_csv(twitter_results_path + popular_languages_by_tag_rank_filename, header=True, index=False)\n",
    "                                      \n",
    "    rank +=1"
   ]
  },
  {
   "cell_type": "markdown",
   "metadata": {},
   "source": [
    "## 3.4  Tweets geolocalizados por coodenadas"
   ]
  },
  {
   "cell_type": "code",
   "execution_count": null,
   "metadata": {},
   "outputs": [],
   "source": [
    "from pyspark.sql.functions import hour\n",
    "\n",
    "remove_not_valid = 999.9\n",
    "geo_tweets_df = (tweets_df.filter(tweets_df.Coordinates.Latitude != remove_not_valid)\n",
    "                 .select(tweets_df.Coordinates.Latitude.alias('Latitude'), \n",
    "                         tweets_df.Coordinates.Longitude.alias('Longitude'),\n",
    "                         hour(tweets_df.Created_at).alias('Hour'),\n",
    "                         tweets_df.Tag).cache())"
   ]
  },
  {
   "cell_type": "markdown",
   "metadata": {},
   "source": [
    "### 3.4.1 Guardar los resultados a un fichero"
   ]
  },
  {
   "cell_type": "code",
   "execution_count": null,
   "metadata": {
    "collapsed": true
   },
   "outputs": [],
   "source": [
    "geo_tweets_filename = 'geo_tweets.csv'\n",
    "geo_tweets_df.toPandas().to_csv(twitter_results_path + geo_tweets_filename, header=True, index=False)"
   ]
  }
 ],
 "metadata": {
  "kernelspec": {
   "display_name": "Python 2",
   "language": "python",
   "name": "python2"
  },
  "language_info": {
   "codemirror_mode": {
    "name": "ipython",
    "version": 2
   },
   "file_extension": ".py",
   "mimetype": "text/x-python",
   "name": "python",
   "nbconvert_exporter": "python",
   "pygments_lexer": "ipython2",
   "version": "2.7.14"
  }
 },
 "nbformat": 4,
 "nbformat_minor": 1
}
