{
 "cells": [
  {
   "cell_type": "markdown",
   "metadata": {
    "extensions": {
     "jupyter_dashboards": {
      "version": 1,
      "views": {
       "grid_default": {
        "col": 0,
        "height": 4,
        "hidden": false,
        "row": 0,
        "width": 4
       },
       "report_default": {
        "hidden": false
       }
      }
     }
    }
   },
   "source": [
    "<img src=\"data/images/Synergic_logo.png\">"
   ]
  },
  {
   "cell_type": "raw",
   "metadata": {
    "collapsed": true,
    "extensions": {
     "jupyter_dashboards": {
      "version": 1,
      "views": {
       "grid_default": {
        "hidden": true
       },
       "report_default": {
        "hidden": true
       }
      }
     }
    },
    "raw_mimetype": "text/html"
   },
   "source": [
    "<script>\n",
    "  function code_toggle() {\n",
    "    if (code_shown){\n",
    "      $('div.input').hide('500');\n",
    "      $('#toggleButton').val('Mostrar código')\n",
    "    } else {\n",
    "      $('div.input').show('500');\n",
    "      $('#toggleButton').val('Ocultar código')\n",
    "    }\n",
    "    code_shown = !code_shown\n",
    "  }\n",
    "\n",
    "  $( document ).ready(function(){\n",
    "    code_shown=false;\n",
    "    $('div.input').hide()\n",
    "  });\n",
    "</script>\n",
    "<font size =\"3\">El código de este Jupyter Notebook está oculto por defecto para facilitar su visualización.</font>\n",
    "<form action=\"javascript:code_toggle()\">\n",
    "    <input type=\"submit\" id=\"toggleButton\" value=\"Mostrar código\"></form>"
   ]
  },
  {
   "cell_type": "markdown",
   "metadata": {
    "extensions": {
     "jupyter_dashboards": {
      "version": 1,
      "views": {
       "grid_default": {
        "col": 0,
        "height": 13,
        "hidden": false,
        "row": 35,
        "width": 12
       },
       "report_default": {
        "hidden": false
       }
      }
     }
    }
   },
   "source": [
    "# PROYECTO FINAL\n",
    "El objetivo de este proyecto es resolver un caso práctico en el cual una plataforma de aprendizaje en línea desea ofertar nuevos cursos para que lo que necesita saber:\n",
    "- Qué tecnologías o lenguajes de programación son populares.\n",
    "- En qué idiomas ha de ofertar dichos cursos.\n",
    "- En qué países\n",
    "\n",
    "Para ello se dispone de un dataset de Stack Overflow que contiene las palabras clave de las consultas entre los años 2008 y 2017. A parte de ello, y como el cliente necesita saber las tendencias tecnológicas más actuales, se realizará una captura de mensajes de Twitter para poder responder a las necesidades del mismo de una manera más precisa.\n",
    "\n",
    "El equipo está formado por:\n",
    "- **Jordi Molinera Poblet**\n",
    "- **Yassine Belbachir**\n",
    "- **Marcelino Camacho Paz**"
   ]
  },
  {
   "cell_type": "markdown",
   "metadata": {},
   "source": [
    "# 0. Requisitos para ejecutar correctamente este notebook"
   ]
  },
  {
   "cell_type": "markdown",
   "metadata": {},
   "source": [
    "Para ejecutar correctamente todo el código de este notebook, se re quiere la instalación de las siguientess instalar las siguientes librerías.\n",
    "- ipywidgets. https://ipywidgets.readthedocs.io/en/latest/user_install.html\n",
    "- WordCloud. https://github.com/amueller/word_cloud\n",
    "- folium. https://folium.readthedocs.io/en/latest/installing.html\n",
    "\n",
    "Así mismo, se recomienda la instalación de la extensión de Jupyter Notebook, Jupyter Dashboard, y el uso del \"Report Layout\" para una visualización más limpia.\n",
    "https://github.com/jupyter/dashboards"
   ]
  },
  {
   "cell_type": "markdown",
   "metadata": {
    "extensions": {
     "jupyter_dashboards": {
      "version": 1,
      "views": {
       "grid_default": {
        "col": 4,
        "height": 4,
        "hidden": false,
        "row": 0,
        "width": 4
       },
       "report_default": {
        "hidden": false
       }
      }
     }
    }
   },
   "source": [
    "# 1. Carga de datos"
   ]
  },
  {
   "cell_type": "markdown",
   "metadata": {
    "extensions": {
     "jupyter_dashboards": {
      "version": 1,
      "views": {
       "grid_default": {
        "col": 0,
        "height": 4,
        "hidden": false,
        "row": 48,
        "width": 12
       },
       "report_default": {
        "hidden": false
       }
      }
     }
    }
   },
   "source": [
    "A continuación se va a proceder a la carga de los datos obtenidos a partir de los procesos de ingesta y transformación.\n",
    "\n",
    "Estos datos se han almacenado de forma local en archivos CSV para facilitar su manipulación, portabilidad, representación y, al ser archivos de un tamaños pequeño, no supone ningún problema su procesado en cualquier equipo."
   ]
  },
  {
   "cell_type": "markdown",
   "metadata": {
    "extensions": {
     "jupyter_dashboards": {
      "version": 1,
      "views": {
       "grid_default": {
        "col": 8,
        "height": 4,
        "hidden": false,
        "row": 0,
        "width": 4
       },
       "report_default": {
        "hidden": false
       }
      }
     }
    }
   },
   "source": [
    "## 1.1. Datos de Stack Overflow"
   ]
  },
  {
   "cell_type": "markdown",
   "metadata": {
    "extensions": {
     "jupyter_dashboards": {
      "version": 1,
      "views": {
       "grid_default": {
        "col": 8,
        "height": 4,
        "hidden": false,
        "row": 24,
        "width": 4
       },
       "report_default": {
        "hidden": false
       }
      }
     }
    }
   },
   "source": [
    "En las variables creadas a continuación se almacenan los datos convenientemente procesados de Stack Overflow."
   ]
  },
  {
   "cell_type": "code",
   "execution_count": null,
   "metadata": {
    "collapsed": true,
    "extensions": {
     "jupyter_dashboards": {
      "version": 1,
      "views": {
       "grid_default": {
        "hidden": true
       },
       "report_default": {
        "hidden": true
       }
      }
     }
    }
   },
   "outputs": [],
   "source": [
    "import pandas as pd\n",
    "\n",
    "import sys\n",
    "reload(sys)\n",
    "sys.setdefaultencoding('utf-8')\n",
    "\n",
    "# Variables globales\n",
    "stack_overflow_results_path = \"data/stack_overflow_results/\"\n",
    "numberOfResults = 10\n",
    "\n",
    "# Tecnologías más populares del último año\n",
    "popular_tags_2017_filename = 'list_popular_tags_2017.csv'\n",
    "popular_tags_2017 = pd.read_csv(stack_overflow_results_path + popular_tags_2017_filename)\n",
    "\n",
    "# Años y número de tags por año\n",
    "years_and_tags_counts_filename = 'years_and_tags_counts.csv'\n",
    "years_and_tags_counts = pd.read_csv(stack_overflow_results_path + years_and_tags_counts_filename)\n",
    "\n",
    "# Tecnologías más populares por año\n",
    "popular_tags_df = []\n",
    "anno = 2008\n",
    "for i in range(len(popular_tags_2017.tag)):\n",
    "    popular_tags_filename = 'popular_tags_' + str(anno) +'.csv'\n",
    "    popular_tags_df.append(pd.read_csv(stack_overflow_results_path + popular_tags_filename))\n",
    "    anno +=1\n",
    "    \n",
    "# Evolución históricas de las tecnologías más populares del último año\n",
    "historical_tags_df = []\n",
    "rank = 1\n",
    "for i in range(len(popular_tags_2017.tag)):\n",
    "    popular_tags_2017_historical_filename = 'popular_tags_2017_rank_' + str(rank) +'_historical.csv'\n",
    "    historical_tags_df.append(pd.read_csv(stack_overflow_results_path + popular_tags_2017_historical_filename))\n",
    "    rank +=1\n",
    "    \n",
    "# Extracto de 20000 tags del 2017\n",
    "tags_20K_2017_filename = 'tags_20K_2017.csv'\n",
    "tags_20K_2017 = pd.read_csv(stack_overflow_results_path + tags_20K_2017_filename)"
   ]
  },
  {
   "cell_type": "markdown",
   "metadata": {
    "extensions": {
     "jupyter_dashboards": {
      "version": 1,
      "views": {
       "grid_default": {
        "col": 0,
        "height": 4,
        "hidden": false,
        "row": 4,
        "width": 4
       },
       "report_default": {
        "hidden": false
       }
      }
     }
    }
   },
   "source": [
    "## 1.2. Datos de Twitter"
   ]
  },
  {
   "cell_type": "markdown",
   "metadata": {
    "extensions": {
     "jupyter_dashboards": {
      "version": 1,
      "views": {
       "grid_default": {
        "col": 8,
        "height": 4,
        "hidden": false,
        "row": 28,
        "width": 4
       },
       "report_default": {
        "hidden": false
       }
      }
     }
    }
   },
   "source": [
    "En las variables creadas a continuación se almacenan los datos convenientemente procesados de Twitter."
   ]
  },
  {
   "cell_type": "code",
   "execution_count": null,
   "metadata": {
    "collapsed": true,
    "extensions": {
     "jupyter_dashboards": {
      "version": 1,
      "views": {
       "grid_default": {
        "hidden": true
       },
       "report_default": {
        "hidden": true
       }
      }
     }
    }
   },
   "outputs": [],
   "source": [
    "# Variables globales\n",
    "twitter_results_path = 'data/twitter_results/'\n",
    "\n",
    "# Número de tweets\n",
    "tweets_count_filename = 'tweets_count.csv'\n",
    "with open(twitter_results_path + tweets_count_filename, 'r') as f:\n",
    "    tweets_count = f.read()\n",
    "    \n",
    "# Tecnologías más populares Twitter\n",
    "twitter_ranking_tags_filename = 'ranking_popular_tags.csv'\n",
    "twitter_ranking_tags_df = pd.read_csv(twitter_results_path + twitter_ranking_tags_filename)\n",
    "twitter_ranking_tags_df.replace('#r', 'r', inplace=True)\n",
    "\n",
    "# Número de tweets con datos de país\n",
    "number_tweets_with_country_filename = 'number_tweets_with_country.csv'\n",
    "with open(twitter_results_path + number_tweets_with_country_filename, 'r') as f:\n",
    "    number_tweets_with_country = f.read()\n",
    "\n",
    "# Ranking de los países con más tweets\n",
    "ranking_countries_filename = 'ranking_countries.csv'\n",
    "ranking_countries_df = pd.read_csv(twitter_results_path + ranking_countries_filename)\n",
    "\n",
    "# Ranking de los idiomas con más tweets\n",
    "ranking_languages_filename = 'ranking_languages.csv'\n",
    "ranking_languages_df = pd.read_csv(twitter_results_path + ranking_languages_filename)\n",
    "\n",
    "# Ranking de los idiomas más empleados por tecnología\n",
    "ranking_language_by_tag = []\n",
    "rank = 1\n",
    "for i in range(len(twitter_ranking_tags_df.Tag)):\n",
    "    popular_languages_by_tag_rank_filename = 'popular_languages_by_tag_rank_' + str(rank) + '.csv'\n",
    "    ranking_language_by_tag.append(pd.read_csv(twitter_results_path + popular_languages_by_tag_rank_filename))                                   \n",
    "    rank +=1\n",
    "\n",
    "# Tweets geolocalizados\n",
    "geo_tweets_filename = 'geo_tweets.csv'\n",
    "geo_tweets_df = pd.read_csv(twitter_results_path + geo_tweets_filename)"
   ]
  },
  {
   "cell_type": "markdown",
   "metadata": {
    "extensions": {
     "jupyter_dashboards": {
      "version": 1,
      "views": {
       "grid_default": {
        "col": 4,
        "height": 4,
        "hidden": false,
        "row": 4,
        "width": 4
       },
       "report_default": {
        "hidden": false
       }
      }
     }
    }
   },
   "source": [
    "# 2. Tecnologías más populares"
   ]
  },
  {
   "cell_type": "markdown",
   "metadata": {
    "extensions": {
     "jupyter_dashboards": {
      "version": 1,
      "views": {
       "grid_default": {
        "col": 0,
        "height": 4,
        "hidden": false,
        "row": 52,
        "width": 12
       },
       "report_default": {
        "hidden": false
       }
      }
     }
    }
   },
   "source": [
    "Para responder a la primera necesidad del cliente, primeramente se va a mostrar una histórico de las tecnologías más populares de los años que comprende la base de datos de Stack Overflow facilitada, para luego mostrar las tecnologías y lenguajes de programación más populares del úlitmo año y con ello mostrar las evolución de su popularidad a lo largo del tiempo."
   ]
  },
  {
   "cell_type": "markdown",
   "metadata": {
    "extensions": {
     "jupyter_dashboards": {
      "version": 1,
      "views": {
       "grid_default": {
        "col": 8,
        "height": 4,
        "hidden": false,
        "row": 4,
        "width": 4
       },
       "report_default": {
        "hidden": false
       }
      }
     }
    }
   },
   "source": [
    "## 2.1 Histórico de las tecnologías más populares entre 2008 y 2017"
   ]
  },
  {
   "cell_type": "markdown",
   "metadata": {
    "extensions": {
     "jupyter_dashboards": {
      "version": 1,
      "views": {
       "grid_default": {
        "col": 0,
        "height": 6,
        "hidden": false,
        "row": 56,
        "width": 12
       },
       "report_default": {
        "hidden": false
       }
      }
     }
    }
   },
   "source": [
    "Las gráficas que se muestran en este apartado sirven de una primera toma de contacto con el problema que se plantea. \n",
    "\n",
    "En este epígrafe se prente introducir al cliente en el tema, ofreciéndole un filtrado y representación gráfica de datos que enriquezca su conocimiento sobre el mismo, para, a continuación, encauzar el flujo del documento hacia la respuesta hacia su primera pregunta, ¿cuáles son los lenguajes de programación o tecnologías más populares?\n",
    "\n",
    "El gráfico posee una lista desplegable interactiva en la que se puede seleccionar el año del que se desea ver las información."
   ]
  },
  {
   "cell_type": "code",
   "execution_count": null,
   "metadata": {
    "extensions": {
     "jupyter_dashboards": {
      "version": 1,
      "views": {
       "grid_default": {
        "col": 0,
        "height": 8,
        "hidden": false,
        "row": 62,
        "width": 4
       },
       "report_default": {
        "hidden": false
       }
      }
     }
    }
   },
   "outputs": [],
   "source": [
    "%matplotlib inline\n",
    "import ipywidgets as widgets\n",
    "from ipywidgets import interact\n",
    "from ipykernel.pylab.backend_inline import flush_figures\n",
    "import matplotlib.pyplot as plt\n",
    "import numpy as np\n",
    "\n",
    "year_index_dic = {}\n",
    "for i in range(0,10):\n",
    "    year_index_dic[2008+i] = i\n",
    "\n",
    "@interact(year=years_and_tags_counts.year)\n",
    "\n",
    "def f(year):\n",
    "    #print(n)\n",
    "    \n",
    "    i = year_index_dic[year]\n",
    "    \n",
    "    anyo = 2008\n",
    "    colors=['#1F77B4','#17BECF','#BCBD22','#7F7F7F','#E377C2','#8C564B','#9467BD','#D62728','#2CA02C','#FF7F0E']\n",
    "\n",
    "    labels = popular_tags_df[i].tag\n",
    "\n",
    "    # Gráfico\n",
    "    f,axis = plt.subplots(1,2,gridspec_kw = {'width_ratios':[1.2, 1]})\n",
    "    f.suptitle(\"Tecnologías más comentadas del \"+str(2008+i)+\" en Stack Overflow\", fontsize = 25)\n",
    "    f.set_figheight(6)\n",
    "    f.set_figwidth(13)    \n",
    "    barras = axis[0].barh(range(10),popular_tags_df[i].Promedio)\n",
    "    for j in range(0,10):\n",
    "        barras[j].set_color(colors[j])\n",
    "        j=j+1\n",
    "    \n",
    "    axis[0].set_yticks(np.arange(0,10))\n",
    "    axis[0].set_yticklabels(labels, fontsize=14)\n",
    "    axis[0].set_xlabel(\"%\",fontsize =16)\n",
    "    axis[0].invert_yaxis()\n",
    "    axis[0].set_xticks(np.arange(0,13,1))\n",
    "    axis[0].set_xticklabels(np.arange(0,101,1), fontsize = 16)\n",
    "    axis[0].xaxis.grid(color=(0.8, 0.8, 0.8), linestyle='--', linewidth=0.5)\n",
    "    \n",
    "    # plt.pie\n",
    "    axis[1].pie(\n",
    "        popular_tags_df[i].Promedio,\n",
    "        autopct='%1.1f%%',\n",
    "        shadow=False, \n",
    "        colors=colors, \n",
    "        startangle=sum(popular_tags_df[i].Promedio),\n",
    "        pctdistance=0.8,\n",
    "        textprops={\"fontsize\":15},\n",
    "        radius=20)\n",
    "    \n",
    "    #plt.pie\n",
    "    axis[1].legend(labels,fontsize = 14,bbox_to_anchor=(1.03, 0.9), loc=2, borderaxespad=0., fancybox=True, shadow=True)\n",
    "    axis[1].axis('equal')\n",
    "    plt.show()    \n",
    "    i=i+1\n",
    "    flush_figures()"
   ]
  },
  {
   "cell_type": "markdown",
   "metadata": {
    "extensions": {
     "jupyter_dashboards": {
      "version": 1,
      "views": {
       "grid_default": {
        "col": 8,
        "height": 4,
        "hidden": false,
        "row": 8,
        "width": 4
       },
       "report_default": {
        "hidden": false
       }
      }
     }
    }
   },
   "source": [
    "### 2.1.1 Nube de palabras de las tecnologías más populares del 2017 en Stack Overflow"
   ]
  },
  {
   "cell_type": "markdown",
   "metadata": {
    "extensions": {
     "jupyter_dashboards": {
      "version": 1,
      "views": {
       "grid_default": {
        "col": 0,
        "height": 4,
        "hidden": false,
        "row": 70,
        "width": 12
       },
       "report_default": {
        "hidden": false
       }
      }
     }
    }
   },
   "source": [
    "Una vez que se han obtenido cuales son las tecnologías o lenguajes de programación más populares del 2017, se ha considerado mostrar dicha información de una manera más visual si cabe, mediante una nube de palabras.\n",
    "\n",
    "El tamaño de cada palabra representa el número de menciones que tuvo en los comentarios en el año 2017 dicha tecnología."
   ]
  },
  {
   "cell_type": "code",
   "execution_count": null,
   "metadata": {
    "extensions": {
     "jupyter_dashboards": {
      "version": 1,
      "views": {
       "grid_default": {
        "hidden": true
       },
       "report_default": {
        "hidden": false
       }
      }
     }
    }
   },
   "outputs": [],
   "source": [
    "%matplotlib inline \n",
    "\n",
    "def grey_color_func(word, font_size, position, orientation, random_state=None,\n",
    "                    **kwargs):\n",
    "    return \"hsl(0, 0%%, %d%%)\" % np.random.randint(10, 40)\n",
    "\n",
    "import matplotlib.pyplot as plt\n",
    "from wordcloud import WordCloud, STOPWORDS\n",
    "import nltk\n",
    "import numpy as np\n",
    "\n",
    "wordcloud = (WordCloud(stopwords=STOPWORDS, background_color='black', width=1000, height=500)\n",
    "             .generate(\" \".join(tags_20K_2017.tag)))\n",
    "\n",
    "plt.figure(figsize=(25,10))\n",
    "plt.imshow(wordcloud,interpolation='bilinear')\n",
    "plt.axis('off')\n",
    "plt.show()"
   ]
  },
  {
   "cell_type": "markdown",
   "metadata": {
    "extensions": {
     "jupyter_dashboards": {
      "version": 1,
      "views": {
       "grid_default": {
        "col": 4,
        "height": 4,
        "hidden": false,
        "row": 12,
        "width": 4
       },
       "report_default": {
        "hidden": false
       }
      }
     }
    }
   },
   "source": [
    "### 2.1.2. Evolución histórica de las tecnologías más populares del 2017"
   ]
  },
  {
   "cell_type": "markdown",
   "metadata": {
    "extensions": {
     "jupyter_dashboards": {
      "version": 1,
      "views": {
       "grid_default": {
        "col": 0,
        "height": 4,
        "hidden": false,
        "row": 74,
        "width": 12
       },
       "report_default": {
        "hidden": false
       }
      }
     }
    }
   },
   "source": [
    "De no demasiado sirve conocer las popularidad de una tecnología si no se conoce su tendencial temporal, mediante la cual se puede comprender si ésta está en alza o en declive.\n",
    "\n",
    "Para ello se ha realizado una gráfica que representa la evolución entre los años 2008 y 2017 de las tecnologías que fueron más mencionadas en el último año en Stack Overflow."
   ]
  },
  {
   "cell_type": "code",
   "execution_count": null,
   "metadata": {
    "extensions": {
     "jupyter_dashboards": {
      "version": 1,
      "views": {
       "grid_default": {
        "hidden": true
       },
       "report_default": {
        "hidden": false
       }
      }
     }
    }
   },
   "outputs": [],
   "source": [
    "%matplotlib inline\n",
    "\n",
    "import matplotlib.pyplot as plt\n",
    "import numpy as np\n",
    "\n",
    "fig, axis = plt.subplots(1,1)\n",
    "fig.set_size_inches(14,8)\n",
    "for i in range(len(popular_tags_2017)):\n",
    "    (axis.plot(historical_tags_df[i].year,historical_tags_df[i].Promedio, \n",
    "               label = popular_tags_2017.tag[i], linewidth=2.5, linestyle='-', marker='o'))\n",
    "    plt.hold    \n",
    "axis.set_title('Evolución histórica de las tecnologías más populares del 2017', fontsize = 22)\n",
    "axis.set_xticks(years_and_tags_counts.year)\n",
    "axis.yaxis.grid()\n",
    "axis.grid(color=(0.8, 0.8, 0.8), linestyle='--', linewidth=0.5)\n",
    "axis.set_xticklabels(years_and_tags_counts.year, rotation='horizontal', fontsize=16)\n",
    "axis.set_ylabel(\"%\",fontsize =20)\n",
    "plt.yticks(fontsize =16)\n",
    "axis.legend(bbox_to_anchor=(1.03, 1), loc=2, borderaxespad=0., fancybox=True, shadow=True, fontsize = 14);"
   ]
  },
  {
   "cell_type": "markdown",
   "metadata": {
    "extensions": {
     "jupyter_dashboards": {
      "version": 1,
      "views": {
       "grid_default": {
        "col": 0,
        "height": 6,
        "hidden": false,
        "row": 104,
        "width": 12
       },
       "report_default": {
        "hidden": false
       }
      }
     }
    }
   },
   "source": [
    "\n",
    "A partir de la visualización de esta gráfica se puede llegar a la conclusión de por popularidad y tendencia al alza sería, a priori, posiblemente realizar cursos de:\n",
    "- **Javascript**\n",
    "- **Python**\n",
    "\n",
    "No obstante, y a pesar de su ligera tendencia negativa probablemente también sería oportuno realizar cursos de **Java**.\n",
    "\n",
    "Más adelante se irá ofreciendo unos resultados más precisos."
   ]
  },
  {
   "cell_type": "markdown",
   "metadata": {
    "extensions": {
     "jupyter_dashboards": {
      "version": 1,
      "views": {
       "grid_default": {
        "col": 4,
        "height": 4,
        "hidden": false,
        "row": 8,
        "width": 4
       },
       "report_default": {
        "hidden": false
       }
      }
     }
    }
   },
   "source": [
    "## 2.2 Tecnologías más comentadas en la actualidad"
   ]
  },
  {
   "cell_type": "markdown",
   "metadata": {
    "extensions": {
     "jupyter_dashboards": {
      "version": 1,
      "views": {
       "grid_default": {
        "col": 0,
        "height": 4,
        "hidden": false,
        "row": 110,
        "width": 12
       },
       "report_default": {
        "hidden": false
       }
      }
     }
    }
   },
   "source": [
    "Como ya se ha comentado, se ha realizado una captura de tweets para obtener la popularidad actual de las tecnologías y lenguajes de programación más populares del año pasado.\n",
    "\n",
    "Dicha captura ha prendido obtener una muestra real global, por lo que se han capturado tweets durante 10 minutos cada hora durante 2 días laborables. Con esto nos hemos asegurado que ninguna región del planeta quedara fuera de nuestro espectro."
   ]
  },
  {
   "cell_type": "markdown",
   "metadata": {
    "extensions": {
     "jupyter_dashboards": {
      "version": 1,
      "views": {
       "grid_default": {
        "col": 4,
        "height": 4,
        "hidden": false,
        "row": 62,
        "width": 4
       },
       "report_default": {
        "hidden": false
       }
      }
     }
    }
   },
   "source": [
    "### 2.2.1 Número de tweets capturados"
   ]
  },
  {
   "cell_type": "markdown",
   "metadata": {
    "extensions": {
     "jupyter_dashboards": {
      "version": 1,
      "views": {
       "grid_default": {
        "col": 0,
        "height": 4,
        "hidden": false,
        "row": 114,
        "width": 12
       },
       "report_default": {
        "hidden": false
       }
      }
     }
    }
   },
   "source": [
    "Como se va a hablar en términos de porcentajes no de valores absolutos, se ha creído conveniente indicar el número de tweets capturados para que este dato esté presente durante los análisis que se van a realizar a posteri."
   ]
  },
  {
   "cell_type": "code",
   "execution_count": null,
   "metadata": {
    "extensions": {
     "jupyter_dashboards": {
      "version": 1,
      "views": {
       "grid_default": {
        "col": 8,
        "height": 4,
        "hidden": false,
        "row": 62,
        "width": 4
       },
       "report_default": {
        "hidden": false
       }
      }
     }
    }
   },
   "outputs": [],
   "source": [
    "from IPython.display import display, HTML\n",
    "\n",
    "HTML(('<font size=\"4\" color=\"424242\">Se han capturado  </font><strong><font size=\"5\" color=\"FF8C00\">{}</font></strong><font size=\"4\" color=\"424242\"> tweets.</font>')\n",
    "     .format(tweets_count))"
   ]
  },
  {
   "cell_type": "markdown",
   "metadata": {
    "extensions": {
     "jupyter_dashboards": {
      "version": 1,
      "views": {
       "grid_default": {
        "col": 0,
        "height": 4,
        "hidden": false,
        "row": 8,
        "width": 4
       },
       "report_default": {
        "hidden": false
       }
      }
     }
    }
   },
   "source": [
    "### 2.2.2 Ranking de las últimas tendencias en tecnología en Twitter"
   ]
  },
  {
   "cell_type": "markdown",
   "metadata": {
    "extensions": {
     "jupyter_dashboards": {
      "version": 1,
      "views": {
       "grid_default": {
        "col": 0,
        "height": 4,
        "hidden": false,
        "row": 97,
        "width": 4
       },
       "report_default": {
        "hidden": false
       }
      }
     }
    }
   },
   "source": [
    "Con los datos capturados de Twitter filtrados por las tecnologías y lenguajes de programación más populares del año pasado se han obtenido los resultados a continuación mostrados."
   ]
  },
  {
   "cell_type": "code",
   "execution_count": null,
   "metadata": {
    "extensions": {
     "jupyter_dashboards": {
      "version": 1,
      "views": {
       "grid_default": {
        "col": 0,
        "height": 8,
        "hidden": false,
        "row": 78,
        "width": 4
       },
       "report_default": {
        "hidden": false
       }
      }
     }
    }
   },
   "outputs": [],
   "source": [
    "import numpy as np\n",
    "import seaborn as sns\n",
    "import matplotlib.pyplot as plt\n",
    "\n",
    "sns.set(style=\"white\", context=\"talk\")\n",
    "\n",
    "\n",
    "f, ax = plt.subplots(1, 1, figsize=(14, 8))\n",
    "\n",
    "# Generate some sequential data\n",
    "sns.barplot(twitter_ranking_tags_df.Promedio, twitter_ranking_tags_df.Tag, palette=\"Oranges_d\", ax=ax, orient='h')\n",
    "ax.set_xlabel('Promedio [%]', fontsize = 18)\n",
    "ax.xaxis.grid()\n",
    "ax.set_xticks(np.arange(0,45,3))\n",
    "ax.set_title('Tecnologías más mencionadas en Twitter actualmente', fontsize = 25)\n",
    "#ax.set_xlabel()\n",
    "ax.set_ylabel('Tecnología', fontsize = 18)\n",
    "\n",
    "# Finalize the plot\n",
    "sns.despine(left=True)"
   ]
  },
  {
   "cell_type": "markdown",
   "metadata": {
    "extensions": {
     "jupyter_dashboards": {
      "version": 1,
      "views": {
       "grid_default": {
        "col": 0,
        "height": 9,
        "hidden": false,
        "row": 118,
        "width": 12
       },
       "report_default": {
        "hidden": false
       }
      }
     }
    }
   },
   "source": [
    "Como se ha observado, el promedio de los tweets relacionados con las tecnologías y lenguajes de programación más populares del 2017 han sido copados por **Android** y **ios**.\n",
    "\n",
    "Dado que el enfoque de Twitter, a diferencia de Stack Overflow, no es sólo de carácter tecnológico sino más bien generalista, estos resultados hay que analizarlos de una manera más concienzuda.\n",
    "\n",
    "Ejemplificando, en Twitter una persona puede comentar que se han comprado un nuevo móvil con Android, no significando que ésta esté interesada en formarse de alguna manera en esta tecnología.\n",
    "\n",
    "Por ello, y a priori, creemos que quizá Twitter no sea una buena herramienta para tomar una decisión absoluta en base a lo que el cliente requiere, pero sí que puede ser un buen complemento una vez analizados los resultados, ya que a parte del \"reinado\" de Android y ios en el número de menciones, el resto de las tecnologías sí que se cree que pueden estar bien representadas en el usuario objeto de un posible curso en línea."
   ]
  },
  {
   "cell_type": "code",
   "execution_count": null,
   "metadata": {
    "extensions": {
     "jupyter_dashboards": {
      "version": 1,
      "views": {
       "grid_default": {
        "hidden": true
       },
       "report_default": {
        "hidden": false
       }
      }
     }
    },
    "scrolled": true
   },
   "outputs": [],
   "source": [
    "twitter_ranking_tags_df.style.bar(subset=['Promedio'],align= 'left', color=['#FF8C00']).set_table_styles([\n",
    "    {'selector': '.row_heading, .blank', 'props': [('display', 'none;')]}])"
   ]
  },
  {
   "cell_type": "markdown",
   "metadata": {
    "extensions": {
     "jupyter_dashboards": {
      "version": 1,
      "views": {
       "grid_default": {
        "col": 4,
        "height": 4,
        "hidden": false,
        "row": 66,
        "width": 4
       },
       "report_default": {
        "hidden": false
       }
      }
     }
    }
   },
   "source": [
    "### 2.2.3 Comparativa entre las tecnologías más populares del 2017 y las actuales"
   ]
  },
  {
   "cell_type": "markdown",
   "metadata": {
    "extensions": {
     "jupyter_dashboards": {
      "version": 1,
      "views": {
       "grid_default": {
        "col": 4,
        "height": 4,
        "hidden": false,
        "row": 97,
        "width": 4
       },
       "report_default": {
        "hidden": false
       }
      }
     }
    }
   },
   "source": [
    "Se ha prendido realizar una comparativa entre las tecnologías más populares del 2017, en base a Stack Overflow y a lo obtenido a través de Twitter."
   ]
  },
  {
   "cell_type": "code",
   "execution_count": null,
   "metadata": {
    "extensions": {
     "jupyter_dashboards": {
      "version": 1,
      "views": {
       "grid_default": {
        "col": 4,
        "height": 11,
        "hidden": false,
        "row": 78,
        "width": 4
       },
       "report_default": {
        "hidden": false
       }
      }
     }
    }
   },
   "outputs": [],
   "source": [
    "import seaborn as sns\n",
    "sns.set(style=\"whitegrid\")\n",
    "\n",
    "tags_2017 = popular_tags_df[9].copy()\n",
    "tags_2017['year']='2017'\n",
    "tags_2017.columns = ['Tag', 'Menciones', 'Promedio', 'Year']\n",
    "tags_2018 = twitter_ranking_tags_df.copy()\n",
    "tags_2018['Year']='2018'\n",
    "tags_2017_2018 = pd.concat([tags_2017, tags_2018], ignore_index=True)\n",
    "\n",
    "g = sns.factorplot(x=\"Promedio\", y=\"Tag\", hue=\"Year\", data=tags_2017_2018,\n",
    "                   size=8, aspect = 1.5, kind=\"bar\", palette=\"muted\", orient='h', legend=False);\n",
    "g.despine(left=True);\n",
    "#g.get_xticklabels()\n",
    "g.set_ylabels(\"Tecnologías\",fontsize = 20);\n",
    "g.set_xlabels(\"Promedio [%]\",fontsize = 20);\n",
    "#g.ax.set_xticks(np.arange(0,70,3))\n",
    "#g.ax.set_xticklabels(g.ax.get_xticklabels(), fontsize=14);\n",
    "g.ax.set_yticklabels(g.ax.get_yticklabels(), fontsize=14);\n",
    "g.ax.legend(fontsize = 20,fancybox=True, shadow=True, loc='best');\n",
    "g.ax.set_title('Popularidad de tecnologías - 2017 vs Actualidad', fontsize = 25);\n"
   ]
  },
  {
   "cell_type": "markdown",
   "metadata": {
    "extensions": {
     "jupyter_dashboards": {
      "version": 1,
      "views": {
       "grid_default": {
        "col": 0,
        "height": 9,
        "hidden": false,
        "row": 127,
        "width": 12
       },
       "report_default": {
        "hidden": false
       }
      }
     }
    }
   },
   "source": [
    "Como se ha mentado en el apartado anterior, estos resultados están \"adulterados\", ya que no incluyen sólo a gente interesada en la tecnología, sino también a no posibles clientes potenciales; de ahí la enorme diferencia que presentan **Android** y **ios** con respecto a su popularidad en Stack Overflow el año pasado.\n",
    "\n",
    "A pesar de ello, se puede concluir que **Java** y **Python** también podrías ser muy buenos candidatos para impartir cursos formativos online, ya que a pesar de que Android y ios son palabras mucho más populares en el lenguaje común, éstos han obtenido unos porcentajes de menciones bastante elevados.\n",
    "\n",
    "Con todo esto, **se proponen** los siguientes lenguajes y tecnologías para impartir cursos en línea:\n",
    "- **Android**\n",
    "- **ios**\n",
    "- **Java**\n",
    "- **Python**"
   ]
  },
  {
   "cell_type": "markdown",
   "metadata": {
    "extensions": {
     "jupyter_dashboards": {
      "version": 1,
      "views": {
       "grid_default": {
        "col": 8,
        "height": 4,
        "hidden": false,
        "row": 12,
        "width": 4
       },
       "report_default": {
        "hidden": false
       }
      }
     }
    }
   },
   "source": [
    "# 3. Idiomas empleados al hablar sobre estas tecnologías"
   ]
  },
  {
   "cell_type": "markdown",
   "metadata": {
    "extensions": {
     "jupyter_dashboards": {
      "version": 1,
      "views": {
       "grid_default": {
        "col": 0,
        "height": 4,
        "hidden": false,
        "row": 136,
        "width": 4
       },
       "report_default": {
        "hidden": false
       }
      }
     }
    }
   },
   "source": [
    "A continuación, se iniciará el análisis de los idiomas más empleados al comentar sobre las tecnologías y lenguajes de programación más populares en la muestra de datos obtenida de Twitter."
   ]
  },
  {
   "cell_type": "markdown",
   "metadata": {
    "extensions": {
     "jupyter_dashboards": {
      "version": 1,
      "views": {
       "grid_default": {
        "col": 0,
        "height": 4,
        "hidden": false,
        "row": 12,
        "width": 4
       },
       "report_default": {
        "hidden": false
       }
      }
     }
    }
   },
   "source": [
    "## 3.1 Ránking de Idiomas más empleados"
   ]
  },
  {
   "cell_type": "markdown",
   "metadata": {
    "extensions": {
     "jupyter_dashboards": {
      "version": 1,
      "views": {
       "grid_default": {
        "col": 0,
        "height": 4,
        "hidden": false,
        "row": 140,
        "width": 12
       },
       "report_default": {
        "hidden": false
       }
      }
     }
    }
   },
   "source": [
    "Mediante la información proporcionada en cada uno de los tweets obtenidos, se ha determinado el idioma de cada uno de ellos, y se ha realizado una gráfica en la que se muestra el promedio de uso de los diez más usados."
   ]
  },
  {
   "cell_type": "code",
   "execution_count": null,
   "metadata": {
    "extensions": {
     "jupyter_dashboards": {
      "version": 1,
      "views": {
       "grid_default": {
        "col": 8,
        "height": 8,
        "hidden": false,
        "row": 78,
        "width": 4
       },
       "report_default": {
        "hidden": false
       }
      }
     }
    }
   },
   "outputs": [],
   "source": [
    "import numpy as np\n",
    "import seaborn as sns\n",
    "import matplotlib.pyplot as plt\n",
    "\n",
    "sns.set(style=\"white\", context=\"talk\")\n",
    "\n",
    "\n",
    "f, ax = plt.subplots(1, 1, figsize=(14, 8))\n",
    "\n",
    "# Generate some sequential data\n",
    "sns.barplot(ranking_languages_df.Promedio, ranking_languages_df.Language, palette=\"BuPu_d\", ax=ax, orient='h')\n",
    "ax.set_xlabel('Promedio [%]', fontsize = 18)\n",
    "ax.xaxis.grid()\n",
    "ax.set_xticks(np.arange(0,70,5))\n",
    "ax.set_title('Idiomas más empleados al hablar con estas tecnologías', fontsize = 25)\n",
    "#ax.set_xlabel()\n",
    "ax.set_ylabel('Idioma', fontsize = 18)\n",
    "\n",
    "# Finalize the plot\n",
    "sns.despine(left=True)"
   ]
  },
  {
   "cell_type": "markdown",
   "metadata": {
    "extensions": {
     "jupyter_dashboards": {
      "version": 1,
      "views": {
       "grid_default": {
        "col": 0,
        "height": 6,
        "hidden": false,
        "row": 144,
        "width": 12
       },
       "report_default": {
        "hidden": false
       }
      }
     }
    }
   },
   "source": [
    "Los resultados son claros, el **inglés** es el idioma más empleado por los usuarios que comentan sobre tecnologías o lenguajes de programación.\n",
    "\n",
    "El **español** no es una sorpresa que esté en segundo lugar ya que es el tercer idioma más hablado del mundo y es logico que también se emplee en estos ámbitos.\n",
    "\n",
    "Pero sí que se cree que es digno de comentar el tercer y cuarto puesto del **japonés** y el **indonesio**, que pudiera ser por el hecho de que el uso de Twitter sea muy popular en esos países."
   ]
  },
  {
   "cell_type": "markdown",
   "metadata": {
    "extensions": {
     "jupyter_dashboards": {
      "version": 1,
      "views": {
       "grid_default": {
        "col": 0,
        "height": 4,
        "hidden": false,
        "row": 20,
        "width": 4
       },
       "report_default": {
        "hidden": false
       }
      }
     }
    }
   },
   "source": [
    "## 3.2 Mapa de calor. Idiomas y tecnologías"
   ]
  },
  {
   "cell_type": "markdown",
   "metadata": {
    "extensions": {
     "jupyter_dashboards": {
      "version": 1,
      "views": {
       "grid_default": {
        "col": 4,
        "height": 4,
        "hidden": false,
        "row": 136,
        "width": 4
       },
       "report_default": {
        "hidden": false
       }
      }
     }
    }
   },
   "source": [
    "Se ha creído oportuno realizar un \"mapa de calor\" que relacione el idioma y las tecnologías populares con su número de menciones, para una visualización rápida y eficaz de los datos obtenidos."
   ]
  },
  {
   "cell_type": "code",
   "execution_count": null,
   "metadata": {
    "extensions": {
     "jupyter_dashboards": {
      "version": 1,
      "views": {
       "grid_default": {
        "col": 4,
        "height": 9,
        "hidden": false,
        "row": 24,
        "width": 4
       },
       "report_default": {
        "hidden": false
       }
      }
     }
    }
   },
   "outputs": [],
   "source": [
    "import seaborn as sns\n",
    "\n",
    "heatmap_df = pd.concat(ranking_language_by_tag, ignore_index=True)\n",
    "tmp_heatmap_matrix = heatmap_df.pivot(\"Tecnologia\", \"Language\", \"Menciones\")\n",
    "heatmap_matrix = tmp_heatmap_matrix.fillna(0).astype(int)\n",
    "\n",
    "fig = plt.figure(figsize=(16,8))\n",
    "r = sns.heatmap(heatmap_matrix, cmap='BuPu',linewidths=.5)\n",
    "r.set_title(\"Mapa de calor de la popularidad de las tecnologías frente a los idiomas\", fontsize = 24)\n",
    "r.set_ylabel(\"Tecnología\",fontsize = 20)\n",
    "r.set_xlabel(\"Idioma\",fontsize = 20)\n",
    "r.set_xticklabels(r.get_xticklabels(), rotation='vertical', fontsize=14);\n",
    "r.set_yticklabels(r.get_yticklabels(), rotation='horizontal',fontsize=14);"
   ]
  },
  {
   "cell_type": "markdown",
   "metadata": {
    "extensions": {
     "jupyter_dashboards": {
      "version": 1,
      "views": {
       "grid_default": {
        "col": 8,
        "height": 4,
        "hidden": false,
        "row": 136,
        "width": 4
       },
       "report_default": {
        "hidden": false
       }
      }
     }
    }
   },
   "source": [
    "En este mapa se puede observar lo ya comentado, que **Android** y **ios** en lengua inglesa copan una buena parte de las menciones en Twitter."
   ]
  },
  {
   "cell_type": "markdown",
   "metadata": {
    "extensions": {
     "jupyter_dashboards": {
      "version": 1,
      "views": {
       "grid_default": {
        "col": 4,
        "height": 4,
        "hidden": false,
        "row": 16,
        "width": 4
       },
       "report_default": {
        "hidden": false
       }
      }
     }
    }
   },
   "source": [
    "## 3.3 Promedio del idioma empleado por tecnología"
   ]
  },
  {
   "cell_type": "markdown",
   "metadata": {
    "extensions": {
     "jupyter_dashboards": {
      "version": 1,
      "views": {
       "grid_default": {
        "col": 0,
        "height": 4,
        "hidden": false,
        "row": 150,
        "width": 12
       },
       "report_default": {
        "hidden": false
       }
      }
     }
    }
   },
   "source": [
    "En este apartado se ha realizado un gráfico de barras que muestra el promedio de las menciones sobre tecnología por cada idioma. Se ha aplicado un filtrado para obtener sólo los resultados que pudieran ser algo significativos."
   ]
  },
  {
   "cell_type": "code",
   "execution_count": null,
   "metadata": {
    "extensions": {
     "jupyter_dashboards": {
      "version": 1,
      "views": {
       "grid_default": {
        "col": 0,
        "height": 11,
        "hidden": false,
        "row": 86,
        "width": 4
       },
       "report_default": {
        "hidden": false
       }
      }
     }
    }
   },
   "outputs": [],
   "source": [
    "import seaborn as sns\n",
    "\n",
    "languages_chart_df = pd.concat(ranking_language_by_tag, ignore_index=True)\n",
    "languages_chart_df = languages_chart_df[languages_chart_df.PromedioTag > 5]\n",
    "\n",
    "sns.set(style=\"whitegrid\")\n",
    "\n",
    "g = sns.factorplot(y=\"PromedioTag\", x=\"Language\", hue=\"Tecnologia\", data=languages_chart_df,\n",
    "                   size=9, aspect = 1.4, kind=\"bar\", palette=\"Paired\", orient='v', legend=False);\n",
    "g.despine(left=True);\n",
    "g.set_ylabels(\"Tecnologías\",fontsize = 20);\n",
    "g.set_xlabels(\"Promedio [%]\",fontsize = 20);\n",
    "g.ax.set_xticklabels(g.ax.get_xticklabels(), fontsize=14,rotation='vertical');\n",
    "g.ax.set_yticklabels(g.ax.get_yticklabels(), fontsize=14);\n",
    "g.ax.legend(fontsize = 16,fancybox=True, shadow=True, loc='best');\n",
    "g.ax.set_title('Promedio del idioma empleado al comentar sobre tecnología', fontsize = 25);"
   ]
  },
  {
   "cell_type": "markdown",
   "metadata": {
    "extensions": {
     "jupyter_dashboards": {
      "version": 1,
      "views": {
       "grid_default": {
        "col": 0,
        "height": 5,
        "hidden": false,
        "row": 154,
        "width": 12
       },
       "report_default": {
        "hidden": false
       }
      }
     }
    }
   },
   "source": [
    "Como ya se había visto, la lengua inglesa acapara casi todas las menciones tecnológicas.\n",
    "\n",
    "Cabe destacar que el **árabe** copa un buen porcentaje de los comentarios sobre **R** y que el **indonés** es un idioma fuerte en ámbitos de **Python** y **PHP**. A priori pudiera parecer que también lo es en **Java**, pero quizá sea por ser Java el nombre de un **isla** del país.\n",
    "\n",
    "A parte de ello, también se quiere comentar el uso de **C++** en idiomas **japonés** y **coreano**, así como la presencia del idioma filipino **tágalo** en la gráfica."
   ]
  },
  {
   "cell_type": "markdown",
   "metadata": {
    "extensions": {
     "jupyter_dashboards": {
      "version": 1,
      "views": {
       "grid_default": {
        "col": 8,
        "height": 4,
        "hidden": false,
        "row": 66,
        "width": 4
       },
       "report_default": {
        "hidden": false
       }
      }
     }
    }
   },
   "source": [
    "## 3.4 Promedio de cada tecnología en los dos principales idiomas"
   ]
  },
  {
   "cell_type": "markdown",
   "metadata": {
    "extensions": {
     "jupyter_dashboards": {
      "version": 1,
      "views": {
       "grid_default": {
        "col": 0,
        "height": 4,
        "hidden": false,
        "row": 159,
        "width": 12
       },
       "report_default": {
        "hidden": false
       }
      }
     }
    }
   },
   "source": [
    "Como se ha observado, los idiomas **inglés** y **español** son los más empleados en cuestiones de tecnología, por ello se ha realizado una nueva gráfica de barras que muestre el espectro de las tecnologías y lenguajes de programación en cada uno de los dos idiomas."
   ]
  },
  {
   "cell_type": "code",
   "execution_count": null,
   "metadata": {
    "extensions": {
     "jupyter_dashboards": {
      "version": 1,
      "views": {
       "grid_default": {
        "col": 8,
        "height": 10,
        "hidden": false,
        "row": 86,
        "width": 4
       },
       "report_default": {
        "hidden": false
       }
      }
     }
    }
   },
   "outputs": [],
   "source": [
    "import seaborn as sns\n",
    "\n",
    "main_languages_chart_df = pd.concat(ranking_language_by_tag, ignore_index=True)\n",
    "main_languages_chart_df = languages_chart_df[(languages_chart_df.Language == 'English') | (languages_chart_df.Language == 'Spanish')]\n",
    "\n",
    "sns.set(style=\"whitegrid\")\n",
    "\n",
    "g = sns.factorplot(y=\"PromedioIdioma\", x=\"Language\", hue=\"Tecnologia\", data=main_languages_chart_df,\n",
    "                   size=9, aspect = 1.4, kind=\"bar\", palette=\"Paired\", orient='v', legend=False);\n",
    "g.despine(left=True);\n",
    "g.set_ylabels(\"Tecnologías\",fontsize = 20);\n",
    "g.set_xlabels(\"Promedio [%]\",fontsize = 20);\n",
    "g.ax.set_xticklabels(g.ax.get_xticklabels(), fontsize=14,rotation='vertical');\n",
    "g.ax.set_yticklabels(g.ax.get_yticklabels(), fontsize=14);\n",
    "g.ax.legend(fontsize = 16,fancybox=True, shadow=True, loc='best');\n",
    "g.ax.set_title('Promedio de cada tecnología en inglés y español', fontsize = 25);"
   ]
  },
  {
   "cell_type": "markdown",
   "metadata": {
    "extensions": {
     "jupyter_dashboards": {
      "version": 1,
      "views": {
       "grid_default": {
        "col": 0,
        "height": 4,
        "hidden": false,
        "row": 163,
        "width": 12
       },
       "report_default": {
        "hidden": false
       }
      }
     }
    }
   },
   "source": [
    "No hay ninguna novedad en lo ya analizado, en ambos idiomas dominan **Android** y **ios**, observándose, eso sí, que en el idioma **inglés** hay un **mayor reparto** de las menciones entre las diferentes tecnologías, posiblemente por el número de personas que están dedicadas o interesadas en el sector por parte de la gente de habla inglesa.\n",
    "\n",
    "**Pyton** y **Java** han obtenido también buenos resultados en **inglés**."
   ]
  },
  {
   "cell_type": "markdown",
   "metadata": {
    "extensions": {
     "jupyter_dashboards": {
      "version": 1,
      "views": {
       "grid_default": {
        "col": 8,
        "height": 4,
        "hidden": false,
        "row": 16,
        "width": 4
       },
       "report_default": {
        "hidden": false
       }
      }
     }
    }
   },
   "source": [
    "# 4. Países desde los que más se habla sobre estas tecnologías"
   ]
  },
  {
   "cell_type": "markdown",
   "metadata": {
    "extensions": {
     "jupyter_dashboards": {
      "version": 1,
      "views": {
       "grid_default": {
        "hidden": true
       },
       "report_default": {
        "hidden": false
       }
      }
     }
    }
   },
   "source": [
    "Se ha prentendido obtener los países desde donde se habla sobre estas tecnologías, ya que era un requisito del cliente."
   ]
  },
  {
   "cell_type": "code",
   "execution_count": null,
   "metadata": {
    "extensions": {
     "jupyter_dashboards": {
      "version": 1,
      "views": {
       "grid_default": {
        "hidden": true
       },
       "report_default": {
        "hidden": false
       }
      }
     }
    }
   },
   "outputs": [],
   "source": [
    "HTML(('''<font size=\"4\" color=\"424242\">De los </font><strong>\n",
    "         <font size=\"5\" color=\"FF8C00\">{}</font></strong>\n",
    "         <font size=\"4\" color=\"424242\"> tweets, solo </font>\n",
    "         <strong><font size=\"5\" color=\"FF8C00\">{}</font></strong>\n",
    "         <font size=\"4\" color=\"424242\"> de ellos dispone de información sobre el país.</font>''')\n",
    "     .format(tweets_count,number_tweets_with_country))"
   ]
  },
  {
   "cell_type": "markdown",
   "metadata": {
    "extensions": {
     "jupyter_dashboards": {
      "version": 1,
      "views": {
       "grid_default": {
        "hidden": true
       },
       "report_default": {
        "hidden": false
       }
      }
     }
    }
   },
   "source": [
    "Sin embargo, como se aprecia por lo comentado una línea más arriba, no se han obtenido muchas capturas de tweets que incluyeran información sobre su locaclización, posiblemente por la reticencia de los usuarios a facilitar datos privados."
   ]
  },
  {
   "cell_type": "markdown",
   "metadata": {
    "extensions": {
     "jupyter_dashboards": {
      "version": 1,
      "views": {
       "grid_default": {
        "col": 0,
        "height": 4,
        "hidden": false,
        "row": 16,
        "width": 4
       },
       "report_default": {
        "hidden": false
       }
      }
     }
    }
   },
   "source": [
    "## 4.1. Ránking de países desde donde más se ha comentado sobre tecnología"
   ]
  },
  {
   "cell_type": "markdown",
   "metadata": {
    "extensions": {
     "jupyter_dashboards": {
      "version": 1,
      "views": {
       "grid_default": {
        "col": 0,
        "height": 4,
        "hidden": false,
        "row": 167,
        "width": 4
       },
       "report_default": {
        "hidden": false
       }
      }
     }
    }
   },
   "source": [
    "A pesar de lo comentado, se ha realizado una gráfica en la que se puede observar desde dónde se ha comentado sobre tecnología o lenguajes de programación."
   ]
  },
  {
   "cell_type": "code",
   "execution_count": null,
   "metadata": {
    "extensions": {
     "jupyter_dashboards": {
      "version": 1,
      "views": {
       "grid_default": {
        "col": 4,
        "height": 8,
        "hidden": false,
        "row": 89,
        "width": 4
       },
       "report_default": {
        "hidden": false
       }
      }
     }
    }
   },
   "outputs": [],
   "source": [
    "import numpy as np\n",
    "import seaborn as sns\n",
    "import matplotlib.pyplot as plt\n",
    "\n",
    "sns.set(style=\"white\", context=\"talk\")\n",
    "\n",
    "f, ax = plt.subplots(1, 1, figsize=(13, 8))\n",
    "\n",
    "# Generate some sequential data\n",
    "sns.barplot(ranking_countries_df.Promedio, ranking_countries_df.Country, palette=\"Greens_d\", ax=ax, orient='h')\n",
    "ax.set_xlabel('Promedio [%]', fontsize = 18)\n",
    "ax.xaxis.grid()\n",
    "ax.set_xticks(np.arange(0,30,2))\n",
    "ax.set_title('Países en donde se mencionan las tecnologías más populares', fontsize = 25)\n",
    "#ax.set_xlabel()\n",
    "ax.set_ylabel('País', fontsize = 18)\n",
    "\n",
    "# Finalize the plot\n",
    "sns.despine(left=True)"
   ]
  },
  {
   "cell_type": "markdown",
   "metadata": {
    "extensions": {
     "jupyter_dashboards": {
      "version": 1,
      "views": {
       "grid_default": {
        "col": 0,
        "height": 4,
        "hidden": false,
        "row": 171,
        "width": 12
       },
       "report_default": {
        "hidden": false
       }
      }
     }
    }
   },
   "source": [
    "Por lo observado en la gráfica, los países sajones son menos recelosos a la hora de cuidar su privacidad, pero sorprende el hecho de que aparezca **Brasil** en la lista, ya que el portugués no destacaba como idioma más empleadosy sin embargo está en el segundo puesto del ránking por países.\n",
    "\n",
    "Lo mismo sucede con **Indonesia** y **Filipinas**, gente de cuyos países parece no tener problema alguno con compartir los datos de su ubicación."
   ]
  },
  {
   "cell_type": "code",
   "execution_count": null,
   "metadata": {
    "extensions": {
     "jupyter_dashboards": {
      "version": 1,
      "views": {
       "grid_default": {
        "col": 0,
        "height": 11,
        "hidden": false,
        "row": 24,
        "width": 4
       },
       "report_default": {
        "hidden": false
       }
      }
     }
    }
   },
   "outputs": [],
   "source": [
    "ranking_countries_df.style.bar(subset=['Promedio'],align= 'left', color=['#46C95A']).set_table_styles([\n",
    "    {'selector': '.row_heading, .blank', 'props': [('display', 'none;')]}])"
   ]
  },
  {
   "cell_type": "markdown",
   "metadata": {
    "extensions": {
     "jupyter_dashboards": {
      "version": 1,
      "views": {
       "grid_default": {
        "col": 4,
        "height": 4,
        "hidden": false,
        "row": 20,
        "width": 4
       },
       "report_default": {
        "hidden": false
       }
      }
     }
    }
   },
   "source": [
    "## 4.2. Mapa de ubicaciones desde donde se han comentado una tecnología"
   ]
  },
  {
   "cell_type": "markdown",
   "metadata": {
    "extensions": {
     "jupyter_dashboards": {
      "version": 1,
      "views": {
       "grid_default": {
        "col": 0,
        "height": 4,
        "hidden": false,
        "row": 175,
        "width": 12
       },
       "report_default": {
        "hidden": false
       }
      }
     }
    }
   },
   "source": [
    "A modo de colofón, se ha prentendido mostrar en una mapa los lugares desde donde un individio ha generado una mendición sobre tecnología, para tener una mejor herramienta de análisis.\n",
    "\n",
    "Cada ubicación es de un color diferente según la tecnología sobre la que comenta. También se ha incluido la hora del día a la que ha realizado el comentario."
   ]
  },
  {
   "cell_type": "code",
   "execution_count": null,
   "metadata": {
    "extensions": {
     "jupyter_dashboards": {
      "version": 1,
      "views": {
       "grid_default": {
        "col": 8,
        "height": 8,
        "hidden": false,
        "row": 96,
        "width": 4
       },
       "report_default": {
        "hidden": false
       }
      }
     }
    }
   },
   "outputs": [],
   "source": [
    "import folium\n",
    "\n",
    "print(folium.__version__)\n",
    "\n",
    "from folium.plugins import MarkerCluster\n",
    "\n",
    "tag_color_dic = {'javascript':'pink',\n",
    "                 'java':'red',\n",
    "                'python':'darkpurple',\n",
    "                'php':'beige',\n",
    "                'c#':'gray',\n",
    "                'android':'lightgreen',\n",
    "                'c++':'blue',\n",
    "                'ios':'white',\n",
    "                'html':'darkred',\n",
    "                'r':'gray'}\n",
    "\n",
    "m = folium.Map(\n",
    "    location=[30, 0],\n",
    "    tiles='Stamen Toner',\n",
    "    #tiles='Cartodb Positron',\n",
    "    zoom_start=2\n",
    ")\n",
    "\n",
    "marker_cluster = MarkerCluster().add_to(m)\n",
    "\n",
    "for i in range(len(geo_tweets_df)):\n",
    "    folium.Marker(\n",
    "        location=[geo_tweets_df.Latitude[i], geo_tweets_df.Longitude[i]],\n",
    "        popup=geo_tweets_df.Tag[i]+' a las '+str(geo_tweets_df.Hour[i])+' horas.',\n",
    "        icon=folium.Icon(color=tag_color_dic[geo_tweets_df.Tag[i]], icon=None),\n",
    "    ).add_to(marker_cluster)\n",
    "m"
   ]
  },
  {
   "cell_type": "markdown",
   "metadata": {
    "extensions": {
     "jupyter_dashboards": {
      "version": 1,
      "views": {
       "grid_default": {
        "col": 4,
        "height": 4,
        "hidden": false,
        "row": 167,
        "width": 4
       },
       "report_default": {
        "hidden": false
       }
      }
     }
    }
   },
   "source": [
    "# 5. Conclusión"
   ]
  },
  {
   "cell_type": "markdown",
   "metadata": {
    "extensions": {
     "jupyter_dashboards": {
      "version": 1,
      "views": {
       "grid_default": {
        "hidden": true
       },
       "report_default": {
        "hidden": false
       }
      }
     }
    }
   },
   "source": [
    "A partir de toda la información analizada se ha aconseja impartir los cursos en línea en las siguientes tecnologías, lenguajes de programación, idiomas y países. \n",
    "\n",
    "Creemos que no hemos podido recabar suficiente información sobre la geolocalización de los tweets para dictar una sentencia sobre los países donde impartir los cursos, no obstante, se va a presuponer que los porcentajes de países que hablan sobre estas tecnologías se mantendría constante al incrementar el número de tweets geolocalizados."
   ]
  },
  {
   "cell_type": "markdown",
   "metadata": {
    "extensions": {
     "jupyter_dashboards": {
      "version": 1,
      "views": {
       "grid_default": {
        "col": 8,
        "height": 4,
        "hidden": false,
        "row": 167,
        "width": 4
       },
       "report_default": {
        "hidden": false
       }
      }
     }
    }
   },
   "source": [
    "## 5.1 Tecnologías y lenguajes de programación"
   ]
  },
  {
   "cell_type": "markdown",
   "metadata": {
    "extensions": {
     "jupyter_dashboards": {
      "version": 1,
      "views": {
       "grid_default": {
        "col": 0,
        "height": 5,
        "hidden": false,
        "row": 179,
        "width": 12
       },
       "report_default": {
        "hidden": false
       }
      }
     }
    }
   },
   "source": [
    "Se aconseja impartir cursos formativos en línea de:\n",
    "- **Android**\n",
    "- **ios**\n",
    "- **Python**\n",
    "- **Java**\n",
    "- **Javascript**"
   ]
  },
  {
   "cell_type": "markdown",
   "metadata": {
    "extensions": {
     "jupyter_dashboards": {
      "version": 1,
      "views": {
       "grid_default": {
        "col": 0,
        "height": 4,
        "hidden": false,
        "row": 184,
        "width": 4
       },
       "report_default": {
        "hidden": false
       }
      }
     }
    }
   },
   "source": [
    "## 5.2 Idiomas"
   ]
  },
  {
   "cell_type": "markdown",
   "metadata": {
    "extensions": {
     "jupyter_dashboards": {
      "version": 1,
      "views": {
       "grid_default": {
        "col": 4,
        "height": 4,
        "hidden": false,
        "row": 184,
        "width": 4
       },
       "report_default": {
        "hidden": false
       }
      }
     }
    }
   },
   "source": [
    "Se aconseja impartir cursos formativos en línea en:\n",
    "- **Inglés**\n",
    "- **Español**"
   ]
  },
  {
   "cell_type": "markdown",
   "metadata": {
    "extensions": {
     "jupyter_dashboards": {
      "version": 1,
      "views": {
       "grid_default": {},
       "report_default": {
        "hidden": false
       }
      }
     }
    }
   },
   "source": [
    "## 5.3 Países"
   ]
  },
  {
   "cell_type": "markdown",
   "metadata": {
    "extensions": {
     "jupyter_dashboards": {
      "version": 1,
      "views": {
       "grid_default": {},
       "report_default": {
        "hidden": false
       }
      }
     }
    }
   },
   "source": [
    "Se aconseja impartir cursos formativos en línea en:\n",
    "- **Estados Unidos**\n",
    "- **Reino Unido**\n",
    "- **España**"
   ]
  },
  {
   "cell_type": "markdown",
   "metadata": {
    "collapsed": true,
    "extensions": {
     "jupyter_dashboards": {
      "version": 1,
      "views": {
       "grid_default": {
        "col": 8,
        "height": 4,
        "hidden": false,
        "row": 20,
        "width": 4
       },
       "report_default": {
        "hidden": true
       }
      }
     }
    }
   },
   "source": [
    "# 6. Creación del HTML"
   ]
  },
  {
   "cell_type": "markdown",
   "metadata": {
    "extensions": {
     "jupyter_dashboards": {
      "version": 1,
      "views": {
       "grid_default": {
        "col": 8,
        "height": 4,
        "hidden": false,
        "row": 184,
        "width": 4
       },
       "report_default": {
        "hidden": true
       }
      }
     }
    }
   },
   "source": [
    "La siguiente sentencia genera automáticamente un archivo HTML cada vez que se ejecute este notebook.\n",
    "El nombre de dicho archivo es **Informe.html**."
   ]
  },
  {
   "cell_type": "code",
   "execution_count": null,
   "metadata": {
    "collapsed": true,
    "extensions": {
     "jupyter_dashboards": {
      "version": 1,
      "views": {
       "grid_default": {
        "hidden": true
       },
       "report_default": {
        "hidden": true
       }
      }
     }
    }
   },
   "outputs": [],
   "source": [
    "! jupyter nbconvert Informe.ipynb"
   ]
  },
  {
   "cell_type": "raw",
   "metadata": {
    "collapsed": true,
    "extensions": {
     "jupyter_dashboards": {
      "version": 1,
      "views": {
       "grid_default": {
        "hidden": true
       },
       "report_default": {
        "hidden": true
       }
      }
     }
    },
    "raw_mimetype": "text/html"
   },
   "source": [
    "<script>\n",
    "  $(document).ready(function(){\n",
    "    $('div.prompt').hide();\n",
    "    $('div.back-to-top').hide();\n",
    "    $('nav#menubar').hide();\n",
    "    $('.breadcrumb').show();\n",
    "    $('.hidden-print').show();\n",
    "  });\n",
    "</script>\n",
    "\n",
    "<footer id=\"attribution\" style=\"float:right; color:#999; background:#fff;\">\n",
    "Creado por Yasin, Jordi y Marce.\n",
    "</footer>"
   ]
  }
 ],
 "metadata": {
  "extensions": {
   "jupyter_dashboards": {
    "activeView": "report_default",
    "version": 1,
    "views": {
     "grid_default": {
      "cellMargin": 10,
      "defaultCellHeight": 20,
      "maxColumns": 12,
      "name": "grid",
      "type": "grid"
     },
     "report_default": {
      "name": "report",
      "type": "report"
     }
    }
   }
  },
  "kernelspec": {
   "display_name": "Python 2",
   "language": "python",
   "name": "python2"
  },
  "language_info": {
   "codemirror_mode": {
    "name": "ipython",
    "version": 2
   },
   "file_extension": ".py",
   "mimetype": "text/x-python",
   "name": "python",
   "nbconvert_exporter": "python",
   "pygments_lexer": "ipython2",
   "version": "2.7.14"
  }
 },
 "nbformat": 4,
 "nbformat_minor": 1
}
